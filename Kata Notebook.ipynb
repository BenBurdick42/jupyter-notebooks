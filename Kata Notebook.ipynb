{
 "cells": [
  {
   "cell_type": "code",
   "execution_count": 249,
   "metadata": {},
   "outputs": [
    {
     "name": "stdout",
     "output_type": "stream",
     "text": [
      "2000\n"
     ]
    }
   ],
   "source": [
    "dice = [1,1,1,5,5,5,5,5,5]\n",
    "\n",
    "num_ones = dice.count(1)\n",
    "num_fives = dice.count(5)\n",
    "\n",
    "score = num_ones*100 + num_fives*50\n",
    "\n",
    "threepeats = []\n",
    "\n",
    "for x in dice:\n",
    "    if dice.count(x) >= 3:\n",
    "        threepeats.append((x,dice.count(x) % 3))\n",
    "\n",
    "for x in threepeats:\n",
    "    if x[1] == 0:\n",
    "        threepeats.remove(x)\n",
    "        threepeats.remove(x)\n",
    "    if x[1] == 1:\n",
    "        threepeats.remove(x)\n",
    "        threepeats.remove(x)\n",
    "        threepeats.remove(x)\n",
    "    if x[1] == 2:\n",
    "        threepeats.remove(x)\n",
    "        threepeats.remove(x)\n",
    "        threepeats.remove(x)\n",
    "        threepeats.remove(x)\n",
    "\n",
    "for x in threepeats:\n",
    "    if x[0] == 1:\n",
    "        score += 1000 - (3*100)\n",
    "    if x[0] == 5:\n",
    "        score += 500 - (3*50)\n",
    "    if (x[0] != 1) and (x[0] != 5):\n",
    "        score += x[0]*100\n",
    "\n",
    "print(score)"
   ]
  },
  {
   "cell_type": "code",
   "execution_count": 247,
   "metadata": {},
   "outputs": [
    {
     "data": {
      "text/plain": [
       "[(1, 0), (5, 1)]"
      ]
     },
     "execution_count": 247,
     "metadata": {},
     "output_type": "execute_result"
    }
   ],
   "source": [
    "threepeats"
   ]
  },
  {
   "cell_type": "code",
   "execution_count": 248,
   "metadata": {},
   "outputs": [
    {
     "name": "stdout",
     "output_type": "stream",
     "text": [
      "3\n",
      "4\n"
     ]
    }
   ],
   "source": [
    "print(num_ones)\n",
    "print(num_fives)"
   ]
  },
  {
   "cell_type": "code",
   "execution_count": null,
   "metadata": {},
   "outputs": [],
   "source": []
  }
 ],
 "metadata": {
  "kernelspec": {
   "display_name": "Python 3",
   "language": "python",
   "name": "python3"
  },
  "language_info": {
   "codemirror_mode": {
    "name": "ipython",
    "version": 3
   },
   "file_extension": ".py",
   "mimetype": "text/x-python",
   "name": "python",
   "nbconvert_exporter": "python",
   "pygments_lexer": "ipython3",
   "version": "3.7.6"
  }
 },
 "nbformat": 4,
 "nbformat_minor": 4
}
