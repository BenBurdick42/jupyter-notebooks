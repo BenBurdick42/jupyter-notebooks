{
 "cells": [
  {
   "cell_type": "code",
   "execution_count": 1,
   "metadata": {},
   "outputs": [],
   "source": [
    "import numpy as np\n",
    "import qiskit\n",
    "import mitiq\n",
    "import matplotlib.pyplot as plt\n",
    "from qiskit.ignis.mitigation.measurement import complete_meas_cal, CompleteMeasFitter\n",
    "from qiskit.providers.aer.noise import NoiseModel\n",
    "import qiskit.providers.aer.noise as noise\n",
    "from qiskit.providers.aer.noise.errors.standard_errors import depolarizing_error\n",
    "from qiskit import *\n",
    "from qiskit import IBMQ"
   ]
  },
  {
   "cell_type": "code",
   "execution_count": 2,
   "metadata": {},
   "outputs": [],
   "source": [
    "#Define the functions used to build the Trotter circuit.\n",
    "def h_Z(qc,h,dt):\n",
    "    for i in range(5):\n",
    "        if i==0 or i==4:\n",
    "            qc.rz(h*dt,i)\n",
    "        else:\n",
    "            qc.rz(2*h*dt,i)\n",
    "        \n",
    "def X_Rabi(qc,Omega,dt): # Rabi coupling\n",
    "    \n",
    "    for i in range(5):\n",
    "        \n",
    "        qc.rx(2*Omega*dt,i)\n",
    "        \n",
    "def ZZ(qc,V,dt): # nearest neighbor coupling\n",
    "    \n",
    "    qc.cx(0,1)\n",
    "    \n",
    "    qc.rz(-2*V*dt,1)\n",
    "    \n",
    "    qc.cx(0,1)\n",
    "    \n",
    "    qc.cx(2,3)\n",
    "    \n",
    "    qc.rz(-2*V*dt,3)\n",
    "    \n",
    "    qc.cx(2,3)\n",
    "    \n",
    "    qc.cx(1,2)\n",
    "    \n",
    "    qc.rz(-2*V*dt,2)\n",
    "    \n",
    "    qc.cx(1,2)\n",
    "    \n",
    "    qc.cx(3,4)\n",
    "    \n",
    "    qc.rz(-2*V*dt,4)\n",
    "    \n",
    "    qc.cx(3,4)\n",
    "\n",
    "def Trotter_circuit_5_site(h,Omega,V,T,n):\n",
    "    \n",
    "    Trotter_circuits = []\n",
    "    \n",
    "    dt=T/n\n",
    "    \n",
    "    for i in range(n):\n",
    "        \n",
    "        Trotter_circuit = QuantumCircuit(5)\n",
    "        \n",
    "        ### Initial state setting\n",
    "        \n",
    "        Trotter_circuit.x(1)\n",
    "        \n",
    "        Trotter_circuit.x(3)\n",
    "        \n",
    "        ###\n",
    "        \n",
    "        Trotter_circuit.barrier()\n",
    "        \n",
    "        for k in range(i):\n",
    "            X_Rabi(Trotter_circuit,Omega,dt) # Rabi coupling from the second term of Hamiltonian\n",
    "            \n",
    "            h_Z(Trotter_circuit,h,dt) # Z field \n",
    "            \n",
    "            ZZ(Trotter_circuit,V,dt) # Nearest neighbor hopping term\n",
    "            \n",
    "            Trotter_circuit.barrier()\n",
    "            \n",
    "        Trotter_circuit.measure_all()\n",
    "        \n",
    "        Trotter_circuits.append(Trotter_circuit)\n",
    "        \n",
    "    return Trotter_circuits"
   ]
  },
  {
   "cell_type": "code",
   "execution_count": 3,
   "metadata": {},
   "outputs": [],
   "source": [
    "#Parameters used for the Trotter cirucit\n",
    "Omega = 0.2*2\n",
    "\n",
    "h = 2*2\n",
    "\n",
    "V = 1*2\n",
    "\n",
    "T = 10 # Total time\n",
    "\n",
    "TT=T\n",
    "\n",
    "#NEED TO CHECK IF THIS IS ALLOWED\n",
    "delta_t = .5\n",
    "\n",
    "#CHECK THIS AS WELL\n",
    "n = int(np.rint(T/delta_t))\n",
    "\n",
    "NN=n\n",
    "\n",
    "Trotter_circuit = Trotter_circuit_5_site(h,Omega,V,T,n)"
   ]
  },
  {
   "cell_type": "code",
   "execution_count": 43,
   "metadata": {},
   "outputs": [
    {
     "data": {
      "image/png": "[encoded data removed]",
      "text/plain": [
       "<Figure size 1140.28x385.28 with 1 Axes>"
      ]
     },
     "execution_count": 43,
     "metadata": {},
     "output_type": "execute_result"
    }
   ],
   "source": [
    "Trotter_circuit[1].draw('mpl')"
   ]
  },
  {
   "cell_type": "code",
   "execution_count": 44,
   "metadata": {},
   "outputs": [],
   "source": [
    "backend = qiskit.Aer.get_backend(\"qasm_simulator\")\n",
    "# backend = FakeVigo()\n",
    "\n",
    "job = qiskit.execute(Trotter_circuit[1],backend,shots=8192)\n",
    "results = job.result()\n",
    "counts = results.get_counts()"
   ]
  },
  {
   "cell_type": "code",
   "execution_count": 45,
   "metadata": {},
   "outputs": [],
   "source": [
    "def post_selection(bit_str):\n",
    "    \"\"\"This function takes in a bitstring, and will return True iff \n",
    "    there is a 1 next to another 1 in the given bitstring.\n",
    "    This does NOT consider a bitstring with 1s on either end as next to one another,\n",
    "    i.e. given a string of the form '10...01', this function should return False\"\"\"\n",
    "    new_str = '0' + bit_str[0:len(bit_str)]\n",
    "    for i in range(0,len(bit_str)+1):\n",
    "        if (new_str[i] == '1') & (new_str[i] == new_str[i-1]):\n",
    "            return True\n",
    "    return False"
   ]
  },
  {
   "cell_type": "code",
   "execution_count": 46,
   "metadata": {},
   "outputs": [
    {
     "name": "stdout",
     "output_type": "stream",
     "text": [
      "{'01010': 6628, '00010': 297, '01000': 249, '10010': 15, '00000': 10, '10000': 1, '01001': 10, '00100': 1}\n",
      "16\n",
      "7211\n",
      "0.002218832339481348\n",
      "-0.9955623353210373\n"
     ]
    }
   ],
   "source": [
    "qubit = 0\n",
    "\n",
    "copy_counts = counts.copy()\n",
    "\n",
    "total = []\n",
    "\n",
    "for x in counts.keys():\n",
    "    if post_selection(x):\n",
    "        copy_counts.pop(x)\n",
    "\n",
    "for x in copy_counts:\n",
    "    total.append(copy_counts[x])\n",
    "\n",
    "total = sum(total)\n",
    "\n",
    "one_counts = 0\n",
    "\n",
    "for x in copy_counts.keys():\n",
    "    if x[qubit] == '1':\n",
    "        one_counts += copy_counts[x]\n",
    "\n",
    "prob = one_counts / total\n",
    "\n",
    "expval = 2*prob - 1\n",
    "\n",
    "print(copy_counts)\n",
    "        \n",
    "print(one_counts)\n",
    "print(total)\n",
    "print(one_counts / total)\n",
    "print(expval)"
   ]
  },
  {
   "cell_type": "code",
   "execution_count": 47,
   "metadata": {},
   "outputs": [],
   "source": [
    "def Z(bitstring, bit):\n",
    "    if bitstring[bit] == '1':\n",
    "        return -1\n",
    "    else:\n",
    "        return 1\n",
    "    \n",
    "def ZZ_measurement(bitstring, bit1, bit2):\n",
    "    return Z(bitstring, bit1) * Z(bitstring, bit2)\n",
    "\n",
    "def post_selected_expval(counts, qubit):\n",
    "    copy_counts = counts.copy()\n",
    "    \n",
    "    total = []\n",
    "\n",
    "    for x in counts.keys():\n",
    "        if post_selection(x):\n",
    "            copy_counts.pop(x)\n",
    "\n",
    "    for x in copy_counts:\n",
    "        total.append(copy_counts[x])\n",
    "\n",
    "    total = sum(total)\n",
    "\n",
    "    one_counts = 0\n",
    "\n",
    "    for x in copy_counts.keys():\n",
    "        if x[qubit] == '1':\n",
    "            one_counts += copy_counts[x]\n",
    "\n",
    "    prob = one_counts / total\n",
    "\n",
    "    expval = 2*prob - 1\n",
    "    \n",
    "    return expval"
   ]
  },
  {
   "cell_type": "code",
   "execution_count": 48,
   "metadata": {},
   "outputs": [
    {
     "name": "stdout",
     "output_type": "stream",
     "text": [
      "-0.9145749549299682\n"
     ]
    }
   ],
   "source": [
    "expval_list = []\n",
    "\n",
    "for x in copy_counts.keys():\n",
    "    expval_list.append(ZZ_measurement(x,0,1) * copy_counts[x]/total)\n",
    "    \n",
    "print(sum(expval_list))"
   ]
  },
  {
   "cell_type": "code",
   "execution_count": 49,
   "metadata": {},
   "outputs": [],
   "source": [
    "def ZZ_meas_expval(counts, bit1, bit2):\n",
    "    copy_counts = counts.copy()\n",
    "    total = []\n",
    "\n",
    "    for x in counts.keys():\n",
    "        if post_selection(x):\n",
    "            copy_counts.pop(x)\n",
    "    \n",
    "    for x in copy_counts:\n",
    "        total.append(copy_counts[x])\n",
    "    \n",
    "    total = sum(total)\n",
    "\n",
    "    one_counts = 0\n",
    "\n",
    "    for x in copy_counts.keys():\n",
    "        if x[qubit] == '1':\n",
    "            one_counts += copy_counts[x]\n",
    "\n",
    "    prob = one_counts / total\n",
    "    \n",
    "    expval_list = []\n",
    "    \n",
    "    for x in copy_counts.keys():\n",
    "        expval_list.append(ZZ_measurement(x,bit1,bit2) * copy_counts[x]/total)\n",
    "    \n",
    "    return sum(expval_list)"
   ]
  },
  {
   "cell_type": "code",
   "execution_count": 50,
   "metadata": {},
   "outputs": [
    {
     "name": "stdout",
     "output_type": "stream",
     "text": [
      "-0.9145749549299682\n"
     ]
    }
   ],
   "source": [
    "print(ZZ_meas_expval(counts, 0, 1))"
   ]
  },
  {
   "cell_type": "code",
   "execution_count": 51,
   "metadata": {},
   "outputs": [
    {
     "name": "stdout",
     "output_type": "stream",
     "text": [
      "-5.551115123125783e-17\n"
     ]
    }
   ],
   "source": [
    "test_thing = []\n",
    "\n",
    "for x in range(0,5-1):\n",
    "    test_thing.append((1 + post_selected_expval(counts,x) + post_selected_expval(counts,x+1) + \n",
    "           ZZ_meas_expval(counts,x,x+1))/4)\n",
    "\n",
    "test_thing = sum(test_thing)\n",
    "\n",
    "print(test_thing)"
   ]
  },
  {
   "cell_type": "code",
   "execution_count": null,
   "metadata": {},
   "outputs": [],
   "source": []
  }
 ],
 "metadata": {
  "kernelspec": {
   "display_name": "Python 3",
   "language": "python",
   "name": "python3"
  },
  "language_info": {
   "codemirror_mode": {
    "name": "ipython",
    "version": 3
   },
   "file_extension": ".py",
   "mimetype": "text/x-python",
   "name": "python",
   "nbconvert_exporter": "python",
   "pygments_lexer": "ipython3",
   "version": "3.7.6"
  }
 },
 "nbformat": 4,
 "nbformat_minor": 4
}
