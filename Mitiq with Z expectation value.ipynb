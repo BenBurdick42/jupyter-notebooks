{
 "cells": [
  {
   "cell_type": "code",
   "execution_count": 1,
   "metadata": {},
   "outputs": [],
   "source": [
    "import numpy as np\n",
    "import qiskit\n",
    "import mitiq\n",
    "from qiskit.providers.aer.noise import NoiseModel\n",
    "import qiskit.providers.aer.noise as noise\n",
    "from qiskit.providers.aer.noise.errors.standard_errors import depolarizing_error\n",
    "from qiskit import *\n",
    "from qiskit import IBMQ"
   ]
  },
  {
   "cell_type": "code",
   "execution_count": 2,
   "metadata": {},
   "outputs": [
    {
     "data": {
      "image/png": "[encoded data removed]",
      "text/plain": [
       "<Figure size 417.879x204.68 with 1 Axes>"
      ]
     },
     "execution_count": 2,
     "metadata": {},
     "output_type": "execute_result"
    }
   ],
   "source": [
    "from qiskit.test.mock import FakeVigo\n",
    "\n",
    "test_circuit = QuantumCircuit(2)\n",
    "\n",
    "#backend = qiskit.Aer.get_backend(\"qasm_simulator\")\n",
    "backend = FakeVigo()\n",
    "\n",
    "test_circuit.h(0)\n",
    "test_circuit.cx(0,1)\n",
    "\n",
    "test_circuit.measure_all()\n",
    "\n",
    "job = qiskit.execute(test_circuit,backend,shots=4096)\n",
    "results = job.result()\n",
    "counts = results.get_counts()\n",
    "\n",
    "test_circuit.draw(output='mpl')"
   ]
  },
  {
   "cell_type": "code",
   "execution_count": 3,
   "metadata": {},
   "outputs": [
    {
     "name": "stdout",
     "output_type": "stream",
     "text": [
      "{'11': 1844, '00': 1860, '01': 254, '10': 138}\n"
     ]
    }
   ],
   "source": [
    "print(counts)"
   ]
  },
  {
   "cell_type": "code",
   "execution_count": 4,
   "metadata": {},
   "outputs": [],
   "source": [
    "def qiskit_multiqubit_executor(circuit, shots: 2000, state) -> float:\n",
    "    # Use a depolarizing noise model.\n",
    "#     noise_model = NoiseModel()\n",
    "#     noise_model.add_all_qubit_quantum_error(\n",
    "#         depolarizing_error(one_qubit_error, 1),\n",
    "#         [\"u1\", \"u2\", \"u3\"],\n",
    "#     )\n",
    "#     noise_model.add_all_qubit_quantum_error(two_qubit_error, ['cx'])\n",
    "    \n",
    "    noise_model = NoiseModel.from_backend(backend)\n",
    "    \n",
    "    basis_gates = noise_model.basis_gates\n",
    "\n",
    "    # execution of the experiment\n",
    "    job = qiskit.execute(\n",
    "        circuit,\n",
    "        backend,\n",
    "        basis_gates=basis_gates,\n",
    "        # we want all gates to be actually applied,\n",
    "        # so we skip any circuit optimization\n",
    "        optimization_level=0,\n",
    "        #noise_model=noise_model,\n",
    "        shots=shots,\n",
    "        seed_transpiler=1,\n",
    "        seed_simulator=1\n",
    "    )\n",
    "    results = job.result()\n",
    "    counts = results.get_counts()\n",
    "    #for x in counts:\n",
    "    if state not in counts:\n",
    "        return 0\n",
    "    else:\n",
    "        expval = counts[state] / shots\n",
    "    return expval"
   ]
  },
  {
   "cell_type": "code",
   "execution_count": 5,
   "metadata": {},
   "outputs": [
    {
     "data": {
      "text/plain": [
       "0.447"
      ]
     },
     "execution_count": 5,
     "metadata": {},
     "output_type": "execute_result"
    }
   ],
   "source": [
    "qiskit_multiqubit_executor(test_circuit,2000,'00')"
   ]
  },
  {
   "cell_type": "code",
   "execution_count": 6,
   "metadata": {},
   "outputs": [
    {
     "data": {
      "text/plain": [
       "['00', '01', '10', '11']"
      ]
     },
     "execution_count": 6,
     "metadata": {},
     "output_type": "execute_result"
    }
   ],
   "source": [
    "def zero_str(num_zeros):\n",
    "    zero_string = ''\n",
    "    x = 0\n",
    "    while x < num_zeros:\n",
    "        zero_string = zero_string + '0'\n",
    "        x += 1\n",
    "    return zero_string\n",
    "\n",
    "num_qubits = int(test_circuit.width()/2)\n",
    "\n",
    "num_bits=2**num_qubits\n",
    "state_list = []\n",
    "\n",
    "for x in range(0,num_bits):\n",
    "    if x <= num_bits + 1:\n",
    "        compare = len(bin(num_bits)[2:]) - len(bin(x)[2:])\n",
    "        state_list.append(zero_str(compare-1) + bin(x)[2:])\n",
    "\n",
    "state_list"
   ]
  },
  {
   "cell_type": "code",
   "execution_count": 7,
   "metadata": {},
   "outputs": [
    {
     "name": "stdout",
     "output_type": "stream",
     "text": [
      "0.5025000000000001\n",
      "0.5025000000000001\n"
     ]
    }
   ],
   "source": [
    "prob_1 = 0\n",
    "\n",
    "for x in state_list:\n",
    "    if x[0] == '1':\n",
    "        prob_1 += qiskit_multiqubit_executor(test_circuit,2000,x)\n",
    "\n",
    "print(prob_1)\n",
    "\n",
    "print(qiskit_multiqubit_executor(test_circuit,2000,'10') + qiskit_multiqubit_executor(test_circuit,2000,'11'))"
   ]
  },
  {
   "cell_type": "code",
   "execution_count": 8,
   "metadata": {},
   "outputs": [
    {
     "name": "stdout",
     "output_type": "stream",
     "text": [
      "['00', '01', '10', '11']\n"
     ]
    },
    {
     "data": {
      "text/plain": [
       "0.5125000000000001"
      ]
     },
     "execution_count": 8,
     "metadata": {},
     "output_type": "execute_result"
    }
   ],
   "source": [
    "a = 1\n",
    "\n",
    "num_qubits = 2\n",
    "\n",
    "num_bits=2**num_qubits\n",
    "state_list = []\n",
    "\n",
    "# for x in range(0,num_bits):\n",
    "#     if x <= num_bits + 1:\n",
    "#         compare = len(bin(num_bits)[2:]) - len(bin(x)[2:])\n",
    "#         state_list.append(zero_str(compare-1) + bin(x)[2:])\n",
    "\n",
    "for x in range(0,num_bits):\n",
    "    compare = len(bin(num_bits)[2:]) - len(bin(x)[2:])\n",
    "    state_list.append(zero_str(compare-1) + bin(x)[2:])\n",
    "\n",
    "print(state_list)\n",
    "\n",
    "prob_1 = 0\n",
    "\n",
    "for x in state_list:\n",
    "    if x[a] == '1':\n",
    "        prob_1 += qiskit_multiqubit_executor(test_circuit,2000,x)\n",
    "\n",
    "prob_1"
   ]
  },
  {
   "cell_type": "code",
   "execution_count": 9,
   "metadata": {},
   "outputs": [],
   "source": [
    "def prob1_spesific_qubit(circuit,shots,qubit):\n",
    "    prob1 =  0\n",
    "    for x in state_list:\n",
    "        if x[qubit] == '1':\n",
    "            prob1 += qiskit_multiqubit_executor(circuit,shots,x)\n",
    "    return prob1"
   ]
  },
  {
   "cell_type": "code",
   "execution_count": 10,
   "metadata": {},
   "outputs": [
    {
     "data": {
      "text/plain": [
       "0.5025000000000001"
      ]
     },
     "execution_count": 10,
     "metadata": {},
     "output_type": "execute_result"
    }
   ],
   "source": [
    "prob1_spesific_qubit(test_circuit,2000,0)"
   ]
  },
  {
   "cell_type": "code",
   "execution_count": 11,
   "metadata": {},
   "outputs": [
    {
     "data": {
      "text/plain": [
       "0.4469999999999996"
      ]
     },
     "execution_count": 11,
     "metadata": {},
     "output_type": "execute_result"
    }
   ],
   "source": [
    "from functools import partial\n",
    "\n",
    "qiskit_executor_partial = partial(qiskit_multiqubit_executor, shots=2000, state='00')\n",
    "mitiq.execute_with_zne(test_circuit,qiskit_executor_partial)"
   ]
  },
  {
   "cell_type": "code",
   "execution_count": 12,
   "metadata": {},
   "outputs": [],
   "source": [
    "def zne_prob(input_shots, input_state):\n",
    "    temp = partial(qiskit_multiqubit_executor, shots=input_shots, state=input_state)\n",
    "    return mitiq.execute_with_zne(test_circuit,temp)"
   ]
  },
  {
   "cell_type": "code",
   "execution_count": 13,
   "metadata": {},
   "outputs": [
    {
     "data": {
      "text/plain": [
       "0.04309082031249997"
      ]
     },
     "execution_count": 13,
     "metadata": {},
     "output_type": "execute_result"
    }
   ],
   "source": [
    "zne_prob(8192,'10')"
   ]
  },
  {
   "cell_type": "code",
   "execution_count": 14,
   "metadata": {},
   "outputs": [],
   "source": [
    "def prob1_spesific_qubit_zne(shots,qubit):\n",
    "    prob1 = 0\n",
    "    for x in state_list:\n",
    "        if x[qubit] == '1':\n",
    "            prob1 += zne_prob(shots, x)\n",
    "    return prob1"
   ]
  },
  {
   "cell_type": "code",
   "execution_count": 15,
   "metadata": {},
   "outputs": [
    {
     "data": {
      "text/plain": [
       "0.5109999999999996"
      ]
     },
     "execution_count": 15,
     "metadata": {},
     "output_type": "execute_result"
    }
   ],
   "source": [
    "prob1_spesific_qubit_zne(2000,1)"
   ]
  },
  {
   "cell_type": "code",
   "execution_count": 16,
   "metadata": {},
   "outputs": [
    {
     "data": {
      "text/plain": [
       "0.5004999999999996"
      ]
     },
     "execution_count": 16,
     "metadata": {},
     "output_type": "execute_result"
    }
   ],
   "source": [
    "prob1_spesific_qubit_zne(2000,0)"
   ]
  },
  {
   "cell_type": "code",
   "execution_count": 17,
   "metadata": {},
   "outputs": [],
   "source": [
    "def z_expval(shots,site):\n",
    "    return 2*prob1_spesific_qubit_zne(shots,site) - 1"
   ]
  },
  {
   "cell_type": "code",
   "execution_count": 18,
   "metadata": {},
   "outputs": [
    {
     "data": {
      "text/plain": [
       "0.02199999999999913"
      ]
     },
     "execution_count": 18,
     "metadata": {},
     "output_type": "execute_result"
    }
   ],
   "source": [
    "z_expval(2000,1)"
   ]
  },
  {
   "cell_type": "code",
   "execution_count": 19,
   "metadata": {},
   "outputs": [
    {
     "data": {
      "text/plain": [
       "0.018999999999999462"
      ]
     },
     "execution_count": 19,
     "metadata": {},
     "output_type": "execute_result"
    }
   ],
   "source": [
    "z_expval(2000,0)"
   ]
  },
  {
   "cell_type": "code",
   "execution_count": 20,
   "metadata": {},
   "outputs": [],
   "source": [
    "def h_Z(qc,h,dt):\n",
    "    for i in range(5):\n",
    "        if i==0 or i==4:\n",
    "            qc.rz(h*dt,i)\n",
    "        else:\n",
    "            qc.rz(2*h*dt,i)\n",
    "        \n",
    "def X_Rabi(qc,Omega,dt): # Rabi coupling\n",
    "    \n",
    "    for i in range(5):\n",
    "        \n",
    "        qc.rx(2*Omega*dt,i)\n",
    "        \n",
    "def ZZ(qc,V,dt): # nearest neighbor coupling\n",
    "    \n",
    "    qc.cx(0,1)\n",
    "    \n",
    "    qc.rz(-2*V*dt,1)\n",
    "    \n",
    "    qc.cx(0,1)\n",
    "    \n",
    "    qc.cx(2,3)\n",
    "    \n",
    "    qc.rz(-2*V*dt,3)\n",
    "    \n",
    "    qc.cx(2,3)\n",
    "    \n",
    "    qc.cx(1,2)\n",
    "    \n",
    "    qc.rz(-2*V*dt,2)\n",
    "    \n",
    "    qc.cx(1,2)\n",
    "    \n",
    "    qc.cx(3,4)\n",
    "    \n",
    "    qc.rz(-2*V*dt,4)\n",
    "    \n",
    "    qc.cx(3,4)\n",
    "\n",
    "def Trotter_circuit_5_site(h,Omega,V,T,n):\n",
    "    \n",
    "    Trotter_circuits = []\n",
    "    \n",
    "    dt=T/n\n",
    "    \n",
    "    for i in range(n):\n",
    "        \n",
    "        Trotter_circuit = QuantumCircuit(5)\n",
    "        \n",
    "        ### Initial state setting\n",
    "        \n",
    "        Trotter_circuit.x(1)\n",
    "        \n",
    "        Trotter_circuit.x(3)\n",
    "        \n",
    "        ###\n",
    "        \n",
    "        Trotter_circuit.barrier()\n",
    "        \n",
    "        for k in range(i):\n",
    "            X_Rabi(Trotter_circuit,Omega,dt) # Rabi coupling from the second term of Hamiltonian\n",
    "            \n",
    "            h_Z(Trotter_circuit,h,dt) # Z field \n",
    "            \n",
    "            ZZ(Trotter_circuit,V,dt) # Nearest neighbor hopping term\n",
    "            \n",
    "            Trotter_circuit.barrier()\n",
    "            \n",
    "        Trotter_circuit.measure_all()\n",
    "        \n",
    "        Trotter_circuits.append(Trotter_circuit)\n",
    "        \n",
    "    return Trotter_circuits"
   ]
  },
  {
   "cell_type": "code",
   "execution_count": 21,
   "metadata": {},
   "outputs": [],
   "source": [
    "Omega = 0.2*2\n",
    "\n",
    "h = 2*2\n",
    "\n",
    "V = 1*2\n",
    "\n",
    "T = 10 # Total time\n",
    "\n",
    "TT=T\n",
    "\n",
    "#NEED TO CHECK IF THIS IS ALLOWED\n",
    "delta_t = .5\n",
    "\n",
    "#CHECK THIS AS WELL\n",
    "n = int(np.rint(T/delta_t))\n",
    "\n",
    "NN=n\n",
    "\n",
    "Trotter_circuit = Trotter_circuit_5_site(h,Omega,V,T,n)"
   ]
  },
  {
   "cell_type": "code",
   "execution_count": 22,
   "metadata": {},
   "outputs": [
    {
     "data": {
      "image/png": "[encoded data removed]",
      "text/plain": [
       "<Figure size 1140.28x385.28 with 1 Axes>"
      ]
     },
     "execution_count": 22,
     "metadata": {},
     "output_type": "execute_result"
    }
   ],
   "source": [
    "Trotter_circuit[1].draw(output='mpl')"
   ]
  },
  {
   "cell_type": "code",
   "execution_count": 23,
   "metadata": {},
   "outputs": [
    {
     "data": {
      "text/plain": [
       "0.020500000000000036"
      ]
     },
     "execution_count": 23,
     "metadata": {},
     "output_type": "execute_result"
    }
   ],
   "source": [
    "#have to change the default circuit mitiq uses, and add time spesification\n",
    "def zne_prob(input_shots, input_state,t):\n",
    "    temp = partial(qiskit_multiqubit_executor, shots=input_shots, state=input_state)\n",
    "    return mitiq.execute_with_zne(Trotter_circuit[t],temp) #used to be test_circuit\n",
    "\n",
    "zne_prob(2000,'00001',1)"
   ]
  },
  {
   "cell_type": "code",
   "execution_count": 24,
   "metadata": {},
   "outputs": [],
   "source": [
    "num_qubits = int(Trotter_circuit[0].width()/2)\n",
    "\n",
    "num_bits=2**num_qubits\n",
    "state_list = []\n",
    "\n",
    "# for x in range(0,num_bits):\n",
    "#     if x <= num_bits + 1:\n",
    "#         compare = len(bin(num_bits)[2:]) - len(bin(x)[2:])\n",
    "#         state_list.append(zero_str(compare-1) + bin(x)[2:])\n",
    "\n",
    "for x in range(0,num_bits):\n",
    "    compare = len(bin(num_bits)[2:]) - len(bin(x)[2:])\n",
    "    state_list.append(zero_str(compare-1) + bin(x)[2:])\n",
    "\n",
    "def prob1_spesific_qubit_zne(shots,qubit,t):\n",
    "    prob1 = 0\n",
    "    for x in state_list:\n",
    "        if x[qubit] == '1':\n",
    "            prob1 += zne_prob(shots, x, t)\n",
    "    return prob1"
   ]
  },
  {
   "cell_type": "code",
   "execution_count": 25,
   "metadata": {},
   "outputs": [
    {
     "data": {
      "text/plain": [
       "0.03999999999999998"
      ]
     },
     "execution_count": 25,
     "metadata": {},
     "output_type": "execute_result"
    }
   ],
   "source": [
    "prob1_spesific_qubit_zne(100,2,1)"
   ]
  },
  {
   "cell_type": "code",
   "execution_count": 26,
   "metadata": {},
   "outputs": [],
   "source": [
    "def z_expval(shots,site,t):\n",
    "    return 2*prob1_spesific_qubit_zne(shots,site,t) - 1"
   ]
  },
  {
   "cell_type": "code",
   "execution_count": 27,
   "metadata": {},
   "outputs": [
    {
     "data": {
      "text/plain": [
       "-0.8200000000000003"
      ]
     },
     "execution_count": 27,
     "metadata": {},
     "output_type": "execute_result"
    }
   ],
   "source": [
    "z_expval(100,4,1)"
   ]
  },
  {
   "cell_type": "code",
   "execution_count": 28,
   "metadata": {},
   "outputs": [
    {
     "data": {
      "text/plain": [
       "-0.3200000000000005"
      ]
     },
     "execution_count": 28,
     "metadata": {},
     "output_type": "execute_result"
    }
   ],
   "source": [
    "z_expval(100,0,19)"
   ]
  },
  {
   "cell_type": "code",
   "execution_count": 29,
   "metadata": {},
   "outputs": [],
   "source": [
    "z0_expval = []\n",
    "\n",
    "for x in range(0,len(Trotter_circuit)):\n",
    "    z0_expval.append(z_expval(100,0,x))"
   ]
  },
  {
   "cell_type": "code",
   "execution_count": 30,
   "metadata": {},
   "outputs": [
    {
     "data": {
      "text/plain": [
       "[-0.92,\n",
       " -0.9000000000000004,\n",
       " -0.9000000000000004,\n",
       " -0.6799999999999995,\n",
       " -0.15999999999999792,\n",
       " -0.5400000000000005,\n",
       " -0.8400000000000022,\n",
       " -0.20000000000000073,\n",
       " 0.17999999999999972,\n",
       " 0.17999999999999883,\n",
       " -0.38000000000000367,\n",
       " 0.6200000000000001,\n",
       " 0.8400000000000007,\n",
       " 0.29999999999999916,\n",
       " 0.3599999999999992,\n",
       " -0.10000000000000098,\n",
       " -0.400000000000002,\n",
       " 0.5200000000000022,\n",
       " -0.2000000000000004,\n",
       " 0.04000000000000048]"
      ]
     },
     "execution_count": 30,
     "metadata": {},
     "output_type": "execute_result"
    }
   ],
   "source": [
    "z0_expval"
   ]
  },
  {
   "cell_type": "code",
   "execution_count": 31,
   "metadata": {},
   "outputs": [],
   "source": [
    "z_expval_dict = {}\n",
    "\n",
    "for y in range(0,num_qubits):\n",
    "    z_expval_dict.update({y:[]})\n",
    "    for x in range(0,len(Trotter_circuit)):\n",
    "        z_expval_dict[y].append(z_expval(1000,y,x))"
   ]
  },
  {
   "cell_type": "code",
   "execution_count": 32,
   "metadata": {},
   "outputs": [
    {
     "data": {
      "text/plain": [
       "{0: [-0.9580000000000001,\n",
       "  -0.8960000000000002,\n",
       "  -0.7639999999999997,\n",
       "  -0.6919999999999995,\n",
       "  -0.3959999999999988,\n",
       "  -0.46599999999999986,\n",
       "  -0.14999999999999958,\n",
       "  -0.14400000000000035,\n",
       "  0.06399999999999917,\n",
       "  -0.13600000000000245,\n",
       "  0.10399999999999854,\n",
       "  0.06199999999999739,\n",
       "  0.18599999999999772,\n",
       "  0.40399999999999947,\n",
       "  0.6280000000000006,\n",
       "  -1.3322676295501878e-15,\n",
       "  -0.02800000000000069,\n",
       "  -0.024000000000000132,\n",
       "  -0.06400000000000039,\n",
       "  -0.2820000000000007],\n",
       " 1: [0.9519999999999991,\n",
       "  0.4719999999999973,\n",
       "  0.5379999999999991,\n",
       "  0.27399999999999847,\n",
       "  0.15799999999999859,\n",
       "  -0.38200000000000134,\n",
       "  -0.08400000000000019,\n",
       "  -0.13599999999999957,\n",
       "  -0.7060000000000013,\n",
       "  -0.6140000000000008,\n",
       "  -0.7720000000000016,\n",
       "  -0.30999999999999983,\n",
       "  -0.5180000000000007,\n",
       "  -0.5020000000000007,\n",
       "  -0.5380000000000009,\n",
       "  -0.38400000000000056,\n",
       "  -0.3220000000000006,\n",
       "  -0.05799999999999961,\n",
       "  -0.10000000000000075,\n",
       "  -0.03800000000000048],\n",
       " 2: [-0.98,\n",
       "  -1.202000000000001,\n",
       "  -0.6499999999999992,\n",
       "  -0.6659999999999995,\n",
       "  -0.5279999999999991,\n",
       "  -0.47599999999999965,\n",
       "  -0.842000000000001,\n",
       "  -0.6260000000000008,\n",
       "  -0.14000000000000012,\n",
       "  -0.29200000000000037,\n",
       "  0.056000000000000494,\n",
       "  0.2100000000000004,\n",
       "  -0.026000000000001244,\n",
       "  0.33000000000000007,\n",
       "  0.017999999999999572,\n",
       "  -0.13200000000000134,\n",
       "  -0.06000000000000072,\n",
       "  0.03199999999999914,\n",
       "  -0.2860000000000015,\n",
       "  -0.08400000000000074],\n",
       " 3: [0.9439999999999988,\n",
       "  0.6139999999999981,\n",
       "  0.5399999999999978,\n",
       "  -0.04200000000000248,\n",
       "  -0.1960000000000015,\n",
       "  0.1700000000000006,\n",
       "  -0.40800000000000103,\n",
       "  -0.2640000000000001,\n",
       "  -0.5020000000000009,\n",
       "  -0.352,\n",
       "  -0.8680000000000021,\n",
       "  -0.36200000000000065,\n",
       "  -0.5140000000000008,\n",
       "  -0.43200000000000083,\n",
       "  -0.0659999999999995,\n",
       "  -0.17999999999999994,\n",
       "  -0.392000000000001,\n",
       "  -0.26000000000000034,\n",
       "  0.24200000000000044,\n",
       "  -0.25600000000000045],\n",
       " 4: [-0.8340000000000001,\n",
       "  -0.746,\n",
       "  -0.6299999999999999,\n",
       "  -0.7400000000000002,\n",
       "  -0.6780000000000003,\n",
       "  -0.6340000000000006,\n",
       "  -0.614000000000001,\n",
       "  0.06800000000000073,\n",
       "  -0.2840000000000015,\n",
       "  0.2799999999999998,\n",
       "  0.10599999999999898,\n",
       "  0.16199999999999903,\n",
       "  0.2199999999999993,\n",
       "  0.20199999999999996,\n",
       "  0.30799999999999983,\n",
       "  0.019999999999999796,\n",
       "  0.1539999999999997,\n",
       "  -0.07600000000000084,\n",
       "  -0.7740000000000031,\n",
       "  -0.3160000000000014]}"
      ]
     },
     "execution_count": 32,
     "metadata": {},
     "output_type": "execute_result"
    }
   ],
   "source": [
    "z_expval_dict"
   ]
  },
  {
   "cell_type": "code",
   "execution_count": 33,
   "metadata": {},
   "outputs": [],
   "source": [
    "t=np.linspace(0,TT,NN)\n",
    "l=np.linspace(1,5,5)\n",
    "tt, ll = np.meshgrid(t, l)"
   ]
  },
  {
   "cell_type": "code",
   "execution_count": 34,
   "metadata": {},
   "outputs": [
    {
     "data": {
      "text/plain": [
       "<matplotlib.legend.Legend at 0x2d22027d8c8>"
      ]
     },
     "execution_count": 34,
     "metadata": {},
     "output_type": "execute_result"
    },
    {
     "data": {
      "image/png": "[encoded data removed]",
      "text/plain": [
       "<Figure size 432x288 with 1 Axes>"
      ]
     },
     "metadata": {
      "needs_background": "light"
     },
     "output_type": "display_data"
    }
   ],
   "source": [
    "import matplotlib.pyplot as plt\n",
    "\n",
    "fig,ax = plt.subplots()\n",
    "ax.plot(t, z_expval_dict[0], label='Qubit 0')\n",
    "ax.plot(t, z_expval_dict[1], label='Qubit 1')\n",
    "ax.plot(t, z_expval_dict[2], label='Qubit 2')\n",
    "ax.plot(t, z_expval_dict[3], label='Qubit 3')\n",
    "ax.plot(t, z_expval_dict[4], label='Qubit 4')\n",
    "ax.set_xlabel('time')\n",
    "ax.set_ylabel('expected Z value')\n",
    "ax.set_title(\"Z Expectation Values With Mitiq\")\n",
    "ax.legend()"
   ]
  },
  {
   "cell_type": "code",
   "execution_count": 35,
   "metadata": {},
   "outputs": [],
   "source": [
    "z_expval_no_mitiq_dict = {}\n",
    "\n",
    "for y in range(0,num_qubits):\n",
    "    z_expval_no_mitiq_dict.update({y:[]})\n",
    "    for x in range(0,len(Trotter_circuit)):\n",
    "        z_expval_no_mitiq_dict[y].append(2*prob1_spesific_qubit(Trotter_circuit[x],100,y)-1)"
   ]
  },
  {
   "cell_type": "code",
   "execution_count": 36,
   "metadata": {},
   "outputs": [
    {
     "data": {
      "text/plain": [
       "{0: [-0.92,\n",
       "  -0.84,\n",
       "  -0.84,\n",
       "  -0.8200000000000001,\n",
       "  -0.6599999999999999,\n",
       "  -0.5599999999999999,\n",
       "  -0.3599999999999999,\n",
       "  -0.1599999999999998,\n",
       "  2.220446049250313e-16,\n",
       "  0.17999999999999994,\n",
       "  0.2400000000000002,\n",
       "  0.26000000000000023,\n",
       "  0.2400000000000002,\n",
       "  0.20000000000000018,\n",
       "  0.16000000000000014,\n",
       "  0.0,\n",
       "  -0.09999999999999964,\n",
       "  -0.1599999999999997,\n",
       "  -0.21999999999999975,\n",
       "  -0.21999999999999975],\n",
       " 1: [0.9000000000000001,\n",
       "  0.7000000000000002,\n",
       "  0.4400000000000004,\n",
       "  0.20000000000000018,\n",
       "  0.040000000000000036,\n",
       "  -0.09999999999999964,\n",
       "  -0.28,\n",
       "  -0.41999999999999993,\n",
       "  -0.45999999999999996,\n",
       "  -0.52,\n",
       "  -0.48,\n",
       "  -0.43999999999999995,\n",
       "  -0.43999999999999995,\n",
       "  -0.48,\n",
       "  -0.54,\n",
       "  -0.43999999999999995,\n",
       "  -0.3599999999999999,\n",
       "  -0.2999999999999998,\n",
       "  -0.23999999999999977,\n",
       "  -0.21999999999999975],\n",
       " 2: [-1,\n",
       "  -0.9,\n",
       "  -0.78,\n",
       "  -0.8,\n",
       "  -0.8200000000000001,\n",
       "  -0.6199999999999999,\n",
       "  -0.6599999999999999,\n",
       "  -0.5,\n",
       "  -0.33999999999999986,\n",
       "  -0.29999999999999993,\n",
       "  -0.19999999999999984,\n",
       "  -0.21999999999999986,\n",
       "  -0.11999999999999988,\n",
       "  -0.039999999999999813,\n",
       "  -0.11999999999999988,\n",
       "  -0.039999999999999925,\n",
       "  -0.039999999999999813,\n",
       "  -0.05999999999999983,\n",
       "  -0.07999999999999985,\n",
       "  -0.17999999999999994],\n",
       " 3: [0.9800000000000002,\n",
       "  0.6200000000000001,\n",
       "  0.4600000000000004,\n",
       "  0.2000000000000004,\n",
       "  -0.12,\n",
       "  -0.09999999999999987,\n",
       "  -0.2999999999999998,\n",
       "  -0.2599999999999998,\n",
       "  -0.2999999999999998,\n",
       "  -0.43999999999999995,\n",
       "  -0.3999999999999999,\n",
       "  -0.41999999999999993,\n",
       "  -0.4600000000000001,\n",
       "  -0.33999999999999986,\n",
       "  -0.30000000000000004,\n",
       "  -0.24,\n",
       "  -0.2599999999999998,\n",
       "  -0.2599999999999998,\n",
       "  -0.1599999999999997,\n",
       "  -0.17999999999999994],\n",
       " 4: [-0.88,\n",
       "  -0.8,\n",
       "  -0.78,\n",
       "  -0.76,\n",
       "  -0.62,\n",
       "  -0.6399999999999999,\n",
       "  -0.5,\n",
       "  -0.2599999999999999,\n",
       "  -0.1399999999999999,\n",
       "  0.039999999999999813,\n",
       "  -0.019999999999999907,\n",
       "  0.1200000000000001,\n",
       "  0.30000000000000027,\n",
       "  -0.09999999999999987,\n",
       "  -0.09999999999999987,\n",
       "  -0.09999999999999987,\n",
       "  -0.15999999999999992,\n",
       "  -0.15999999999999992,\n",
       "  -0.13999999999999968,\n",
       "  -0.15999999999999992]}"
      ]
     },
     "execution_count": 36,
     "metadata": {},
     "output_type": "execute_result"
    }
   ],
   "source": [
    "z_expval_no_mitiq_dict"
   ]
  },
  {
   "cell_type": "code",
   "execution_count": 37,
   "metadata": {},
   "outputs": [
    {
     "data": {
      "text/plain": [
       "<matplotlib.legend.Legend at 0x2d1f1b66248>"
      ]
     },
     "execution_count": 37,
     "metadata": {},
     "output_type": "execute_result"
    },
    {
     "data": {
      "image/png": "[encoded data removed]",
      "text/plain": [
       "<Figure size 432x288 with 1 Axes>"
      ]
     },
     "metadata": {
      "needs_background": "light"
     },
     "output_type": "display_data"
    }
   ],
   "source": [
    "fig,ax = plt.subplots()\n",
    "ax.plot(t, z_expval_no_mitiq_dict[0], label='Qubit 0')\n",
    "ax.plot(t, z_expval_no_mitiq_dict[1], label='Qubit 1')\n",
    "ax.plot(t, z_expval_no_mitiq_dict[2], label='Qubit 2')\n",
    "ax.plot(t, z_expval_no_mitiq_dict[3], label='Qubit 3')\n",
    "ax.plot(t, z_expval_no_mitiq_dict[4], label='Qubit 4')\n",
    "ax.set_xlabel('time')\n",
    "ax.set_ylabel('expected Z value')\n",
    "ax.set_title(\"Z Expectation Values Without Mitiq\")\n",
    "ax.legend()"
   ]
  },
  {
   "cell_type": "code",
   "execution_count": null,
   "metadata": {},
   "outputs": [],
   "source": []
  }
 ],
 "metadata": {
  "kernelspec": {
   "display_name": "Python 3",
   "language": "python",
   "name": "python3"
  },
  "language_info": {
   "codemirror_mode": {
    "name": "ipython",
    "version": 3
   },
   "file_extension": ".py",
   "mimetype": "text/x-python",
   "name": "python",
   "nbconvert_exporter": "python",
   "pygments_lexer": "ipython3",
   "version": "3.7.6"
  }
 },
 "nbformat": 4,
 "nbformat_minor": 4
}
