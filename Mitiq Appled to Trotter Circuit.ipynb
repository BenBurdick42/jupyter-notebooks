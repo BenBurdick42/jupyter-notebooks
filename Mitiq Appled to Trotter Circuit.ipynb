{
 "cells": [
  {
   "cell_type": "code",
   "execution_count": 1,
   "metadata": {},
   "outputs": [],
   "source": [
    "import numpy as np\n",
    "import qiskit\n",
    "import mitiq\n",
    "from qiskit.providers.aer.noise import NoiseModel\n",
    "import qiskit.providers.aer.noise as noise\n",
    "from qiskit.providers.aer.noise.errors.standard_errors import depolarizing_error\n",
    "from qiskit import *\n",
    "from qiskit import IBMQ"
   ]
  },
  {
   "cell_type": "code",
   "execution_count": 2,
   "metadata": {},
   "outputs": [],
   "source": [
    "def h_Z(qc,h,dt):\n",
    "    for i in range(5):\n",
    "        if i==0 or i==4:\n",
    "            qc.rz(h*dt,i)\n",
    "        else:\n",
    "            qc.rz(2*h*dt,i)\n",
    "        \n",
    "def X_Rabi(qc,Omega,dt): # Rabi coupling\n",
    "    \n",
    "    for i in range(5):\n",
    "        \n",
    "        qc.rx(2*Omega*dt,i)\n",
    "        \n",
    "def ZZ(qc,V,dt): # nearest neighbor coupling\n",
    "    \n",
    "    qc.cx(0,1)\n",
    "    \n",
    "    qc.rz(-2*V*dt,1)\n",
    "    \n",
    "    qc.cx(0,1)\n",
    "    \n",
    "    qc.cx(2,3)\n",
    "    \n",
    "    qc.rz(-2*V*dt,3)\n",
    "    \n",
    "    qc.cx(2,3)\n",
    "    \n",
    "    qc.cx(1,2)\n",
    "    \n",
    "    qc.rz(-2*V*dt,2)\n",
    "    \n",
    "    qc.cx(1,2)\n",
    "    \n",
    "    qc.cx(3,4)\n",
    "    \n",
    "    qc.rz(-2*V*dt,4)\n",
    "    \n",
    "    qc.cx(3,4)\n",
    "\n",
    "def Trotter_circuit_5_site(h,Omega,V,T,n):\n",
    "    \n",
    "    Trotter_circuits = []\n",
    "    \n",
    "    dt=T/n\n",
    "    \n",
    "    for i in range(n):\n",
    "        \n",
    "        Trotter_circuit = QuantumCircuit(5)\n",
    "        \n",
    "        ### Initial state setting\n",
    "        \n",
    "        Trotter_circuit.x(1)\n",
    "        \n",
    "        Trotter_circuit.x(3)\n",
    "        \n",
    "        ###\n",
    "        \n",
    "        Trotter_circuit.barrier()\n",
    "        \n",
    "        for k in range(i):\n",
    "            X_Rabi(Trotter_circuit,Omega,dt) # Rabi coupling from the second term of Hamiltonian\n",
    "            \n",
    "            h_Z(Trotter_circuit,h,dt) # Z field \n",
    "            \n",
    "            ZZ(Trotter_circuit,V,dt) # Nearest neighbor hopping term\n",
    "            \n",
    "            Trotter_circuit.barrier()\n",
    "            \n",
    "        Trotter_circuit.measure_all()\n",
    "        \n",
    "        Trotter_circuits.append(Trotter_circuit)\n",
    "        \n",
    "    return Trotter_circuits"
   ]
  },
  {
   "cell_type": "code",
   "execution_count": 3,
   "metadata": {},
   "outputs": [],
   "source": [
    "Omega = 0.2*2\n",
    "\n",
    "h = 2*2\n",
    "\n",
    "V = 1*2\n",
    "\n",
    "T = 10 # Total time\n",
    "\n",
    "TT=T\n",
    "\n",
    "#NEED TO CHECK IF THIS IS ALLOWED\n",
    "delta_t = .5\n",
    "\n",
    "#CHECK THIS AS WELL\n",
    "n = int(np.rint(T/delta_t))\n",
    "\n",
    "NN=n\n",
    "\n",
    "Trotter_circuit = Trotter_circuit_5_site(h,Omega,V,T,n)"
   ]
  },
  {
   "cell_type": "code",
   "execution_count": 4,
   "metadata": {},
   "outputs": [
    {
     "data": {
      "image/png": "[encoded data removed]",
      "text/plain": [
       "<Figure size 387.452x204.68 with 1 Axes>"
      ]
     },
     "execution_count": 4,
     "metadata": {},
     "output_type": "execute_result"
    }
   ],
   "source": [
    "from qiskit.test.mock import FakeVigo\n",
    "\n",
    "test_circuit = QuantumCircuit(2,2)\n",
    "\n",
    "#backend = qiskit.Aer.get_backend(\"qasm_simulator\")\n",
    "backend = FakeVigo()\n",
    "\n",
    "test_circuit.h(0)\n",
    "test_circuit.cx(0,1)\n",
    "test_circuit.barrier()\n",
    "\n",
    "test_circuit.measure(0,0)\n",
    "test_circuit.measure(1,1)\n",
    "\n",
    "job = qiskit.execute(test_circuit,backend,shots=4096)\n",
    "results = job.result()\n",
    "counts = results.get_counts()\n",
    "\n",
    "test_circuit.draw(output='mpl')"
   ]
  },
  {
   "cell_type": "code",
   "execution_count": 5,
   "metadata": {},
   "outputs": [
    {
     "data": {
      "text/plain": [
       "{'00': 1856, '11': 1849, '01': 225, '10': 166}"
      ]
     },
     "execution_count": 5,
     "metadata": {},
     "output_type": "execute_result"
    }
   ],
   "source": [
    "counts"
   ]
  },
  {
   "cell_type": "code",
   "execution_count": 6,
   "metadata": {},
   "outputs": [],
   "source": [
    "one_qubit_error = .001\n",
    "two_qubit_error = noise.depolarizing_error(.005,2)\n",
    "\n",
    "def qiskit_multiqubit_executor(circuit, shots: 2000, state) -> float:\n",
    "    # Use a depolarizing noise model.\n",
    "#     noise_model = NoiseModel()\n",
    "#     noise_model.add_all_qubit_quantum_error(\n",
    "#         depolarizing_error(one_qubit_error, 1),\n",
    "#         [\"u1\", \"u2\", \"u3\"],\n",
    "#     )\n",
    "#     noise_model.add_all_qubit_quantum_error(two_qubit_error, ['cx'])\n",
    "    \n",
    "    noise_model = NoiseModel.from_backend(backend)\n",
    "    \n",
    "    basis_gates = noise_model.basis_gates\n",
    "\n",
    "    # execution of the experiment\n",
    "    job = qiskit.execute(\n",
    "        circuit,\n",
    "        backend,\n",
    "        basis_gates=basis_gates,\n",
    "        # we want all gates to be actually applied,\n",
    "        # so we skip any circuit optimization\n",
    "        optimization_level=0,\n",
    "        #noise_model=noise_model,\n",
    "        shots=shots,\n",
    "        seed_transpiler=1,\n",
    "        seed_simulator=1\n",
    "    )\n",
    "    results = job.result()\n",
    "    counts = results.get_counts()\n",
    "    #for x in counts:\n",
    "    if state not in counts:\n",
    "        return 0\n",
    "    else:\n",
    "        expval = counts[state] / shots\n",
    "    return expval"
   ]
  },
  {
   "cell_type": "code",
   "execution_count": 20,
   "metadata": {},
   "outputs": [
    {
     "data": {
      "text/plain": [
       "0.462"
      ]
     },
     "execution_count": 20,
     "metadata": {},
     "output_type": "execute_result"
    }
   ],
   "source": [
    "qiskit_multiqubit_executor(test_circuit,2000,'11')"
   ]
  },
  {
   "cell_type": "code",
   "execution_count": 7,
   "metadata": {},
   "outputs": [
    {
     "name": "stdout",
     "output_type": "stream",
     "text": [
      "0.02\n",
      "0.058\n",
      "0.105\n",
      "0.147\n",
      "0.133\n",
      "0.118\n",
      "0.078\n",
      "0.054\n",
      "0.031\n",
      "0.031\n",
      "0.036\n",
      "0.026\n",
      "0.025\n",
      "0.029\n",
      "0.025\n",
      "0.034\n",
      "0.043\n",
      "0.035\n",
      "0.043\n",
      "0.042\n"
     ]
    }
   ],
   "source": [
    "qiskit_multiqubit_executor(Trotter_circuit[1],4096,'01010')\n",
    "\n",
    "for x in range(0,len(Trotter_circuit)):\n",
    "    print(qiskit_multiqubit_executor(Trotter_circuit[x],shots = 1000,state = '00010'))"
   ]
  },
  {
   "cell_type": "code",
   "execution_count": 8,
   "metadata": {},
   "outputs": [
    {
     "name": "stdout",
     "output_type": "stream",
     "text": [
      "0.8311068702290076\n",
      "0.8306297709923648\n"
     ]
    }
   ],
   "source": [
    "from functools import partial\n",
    "\n",
    "qiskit_executor_01010 = partial(qiskit_multiqubit_executor, shots = 2096, state = '01010')\n",
    "\n",
    "print(qiskit_multiqubit_executor(Trotter_circuit[0],shots = 2096, state = '01010'))\n",
    "print(mitiq.execute_with_zne(Trotter_circuit[0],qiskit_executor_01010))"
   ]
  },
  {
   "cell_type": "code",
   "execution_count": 9,
   "metadata": {},
   "outputs": [],
   "source": [
    "def zne_prob(input_shots, input_state,t):\n",
    "    temp = partial(qiskit_multiqubit_executor, shots = input_shots, state = input_state)\n",
    "    return mitiq.execute_with_zne(Trotter_circuit[t],temp)"
   ]
  },
  {
   "cell_type": "code",
   "execution_count": 10,
   "metadata": {},
   "outputs": [
    {
     "data": {
      "text/plain": [
       "0.019000000000000045"
      ]
     },
     "execution_count": 10,
     "metadata": {},
     "output_type": "execute_result"
    }
   ],
   "source": [
    "zne_prob(1000,'10000',2)"
   ]
  },
  {
   "cell_type": "code",
   "execution_count": 11,
   "metadata": {},
   "outputs": [
    {
     "data": {
      "text/plain": [
       "['00000',\n",
       " '00001',\n",
       " '00010',\n",
       " '00011',\n",
       " '00100',\n",
       " '00101',\n",
       " '00110',\n",
       " '00111',\n",
       " '01000',\n",
       " '01001',\n",
       " '01010',\n",
       " '01011',\n",
       " '01100',\n",
       " '01101',\n",
       " '01110',\n",
       " '01111',\n",
       " '10000',\n",
       " '10001',\n",
       " '10010',\n",
       " '10011',\n",
       " '10100',\n",
       " '10101',\n",
       " '10110',\n",
       " '10111',\n",
       " '11000',\n",
       " '11001',\n",
       " '11010',\n",
       " '11011',\n",
       " '11100',\n",
       " '11101',\n",
       " '11110',\n",
       " '11111']"
      ]
     },
     "execution_count": 11,
     "metadata": {},
     "output_type": "execute_result"
    }
   ],
   "source": [
    "def zero_str(num_zeros):\n",
    "    zero_string = ''\n",
    "    x = 0\n",
    "    while x < num_zeros:\n",
    "        zero_string = zero_string + '0'\n",
    "        x += 1\n",
    "    return zero_string\n",
    "\n",
    "num_qubits = 5\n",
    "\n",
    "num_bits=2**num_qubits\n",
    "state_list = []\n",
    "\n",
    "for x in range(0,num_bits):\n",
    "    if x <= num_bits + 1:\n",
    "        compare = len(bin(num_bits)[2:]) - len(bin(x)[2:])\n",
    "        state_list.append(zero_str(compare-1) + bin(x)[2:])\n",
    "\n",
    "state_list"
   ]
  },
  {
   "cell_type": "code",
   "execution_count": 12,
   "metadata": {},
   "outputs": [
    {
     "name": "stdout",
     "output_type": "stream",
     "text": [
      "{'00000': [0.0, 0.029999999999999832, 0.07999999999999995, 0.10999999999999988, 0.3100000000000001, 0.0999999999999993, 0.31000000000000005, 0.21000000000000021, 0.0899999999999999, 0.1000000000000001, 0.03999999999999994, 0.02999999999999979, -0.020000000000000337, 0.10000000000000007, 0.08999999999999987, 0.10000000000000007, 0.1300000000000001, 0.07999999999999997, 0.19000000000000022, 0.18000000000000022], '00001': [0.0, 0.009999999999999981, -0.020000000000000104, 0.06000000000000008, 0.05000000000000004, 0.1400000000000003, -0.07000000000000037, 0.029999999999999697, 0.10999999999999995, 0.11000000000000013, 0.06999999999999999, 0.12000000000000033, 0.06000000000000006, 0.07000000000000009, 0.13000000000000017, -0.050000000000000405, -0.02000000000000009, -0.060000000000000386, -0.030000000000000308, -0.05000000000000034], '00010': [0.04999999999999995, 0.13000000000000014, 0.18000000000000002, 0.2100000000000001, 0.019999999999999553, 0.01999999999999952, 0.07999999999999999, 0.03999999999999996, 0.039999999999999925, 0.10000000000000012, 0.12000000000000012, 0.009999999999999877, -0.020000000000000122, -0.12000000000000055, -0.030000000000000193, 0.039999999999999786, 0.009999999999999825, -0.06000000000000029, 0.11000000000000018, 0.17000000000000037], '00011': [0.0, 0.030000000000000113, 0.030000000000000113, 0.04000000000000009, 0.06000000000000011, 0.050000000000000086, 0.030000000000000086, 0.07000000000000015, 0.10000000000000027, 0.06000000000000011, -0.10000000000000035, -6.409875621278547e-17, 0.04000000000000006, -0.06000000000000023, 0.039999999999999945, 0.009999999999999945, 0.009999999999999945, -2.003086131649546e-17, 0.12000000000000031, -0.010000000000000122], '00100': [0.0, -0.010000000000000026, 0.019999999999999962, -0.020000000000000077, -0.010000000000000168, 0.03, 0.020000000000000025, 0.09000000000000018, -0.06000000000000031, -0.09000000000000041, 0.04000000000000005, 0.10000000000000027, 0.009999999999999946, 0.009999999999999945, 0.06000000000000007, 0.10000000000000012, 0.16000000000000025, 0.13, 0.09, -0.030000000000000436], '00101': [0.0, 0.0, 0.0, -0.030000000000000124, -0.030000000000000124, 0.04000000000000009, 0.030000000000000002, -0.010000000000000061, -0.020000000000000195, -2.403703357979455e-16, 0.04000000000000011, -0.010000000000000257, 0.0299999999999998, 0.12000000000000015, -1.7627157958516003e-16, 0.039999999999999945, 0.13000000000000023, 0.06000000000000001, -6.409875621278547e-17, 0.04999999999999995], '00110': [0.0, -0.020000000000000077, -0.03000000000000009, 0.0600000000000002, 0.04000000000000018, -0.009999999999999988, 0.050000000000000086, -0.05000000000000021, -0.040000000000000153, 0.020000000000000025, 0.0700000000000003, 0.030000000000000086, 0.06000000000000011, 0.04000000000000006, 0.06000000000000008, 0.019999999999999962, 0.1400000000000003, 0.06000000000000007, 0.029999999999999947, 0.10000000000000017], '00111': [0.0, 0.0, 0.030000000000000113, 0.02000000000000009, -0.030000000000000124, -0.030000000000000124, 0.0, -0.010000000000000026, 0.019999999999999962, 0.009999999999999981, 0.06000000000000012, -2.003086131649546e-17, -0.06000000000000025, 0.030000000000000034, 0.04000000000000009, 0.03000000000000006, -6.009258394948638e-17, 0.07000000000000015, 0.07000000000000015, 0.020000000000000025], '01000': [0.0, 0.04999999999999985, 0.0699999999999997, 0.05999999999999949, 0.11999999999999968, 0.0499999999999996, 0.16000000000000017, -0.010000000000000177, 0.06000000000000007, -0.03000000000000026, -0.1000000000000003, 0.009999999999999946, -0.08000000000000032, -0.010000000000000162, 0.030000000000000034, -0.09000000000000041, 0.019999999999999962, -6.409875621278547e-17, 0.019999999999999896, 0.05000000000000004], '01001': [0.009999999999999981, -0.030000000000000145, 0.050000000000000086, 0.0900000000000002, 0.12000000000000016, -0.030000000000000193, -0.050000000000000405, 0.06000000000000008, 0.08000000000000013, 0.09000000000000012, 0.06000000000000008, 0.0800000000000002, -0.09000000000000054, -0.07000000000000027, -0.020000000000000104, 0.09000000000000025, 0.07000000000000003, 0.1600000000000004, 0.009999999999999945, 0.06000000000000008], '01010': [0.8599999999999987, 0.5199999999999994, 0.24999999999999922, 0.1099999999999991, 0.14999999999999974, 0.19000000000000017, 0.09, 0.03999999999999992, -2.003086131649546e-17, 0.030000000000000034, -0.07000000000000027, 0.039999999999999945, 0.020000000000000025, 0.030000000000000034, 0.02000000000000007, -0.020000000000000104, 0.050000000000000086, 0.05000000000000004, 0.030000000000000086, 0.10000000000000017], '01011': [0.039999999999999925, 0.029999999999999746, 0.09000000000000005, 0.08000000000000011, -2.0832095769155276e-16, -1.2018516789897276e-16, 0.06000000000000018, 0.050000000000000086, -0.07000000000000027, -0.1000000000000003, 0.030000000000000086, -0.030000000000000124, 0.030000000000000086, -0.010000000000000026, 0.009999999999999945, 0.020000000000000122, 0.010000000000000012, 0.04000000000000018, 0.039999999999999994, 0.00999999999999984], '01100': [0.0, -0.020000000000000195, 0.04000000000000009, -0.03000000000000026, 0.04000000000000005, 0.03, -6.409875621278547e-17, 0.06000000000000008, 0.010000000000000061, 0.030000000000000086, 0.1300000000000003, 0.019999999999999962, 0.10000000000000027, 0.08000000000000018, -0.1100000000000004, -0.010000000000000061, 0.009999999999999981, -0.11000000000000044, 0.03999999999999993, -0.08000000000000031], '01101': [0.0, -0.020000000000000077, 0.03000000000000006, 0.010000000000000045, -0.030000000000000124, 0.07000000000000015, -6.009258394948638e-17, -0.08000000000000036, 0.06000000000000011, 0.030000000000000002, -1.2018516789897276e-16, -0.05000000000000014, 0.04000000000000006, 0.04000000000000006, -2.003086131649546e-17, -0.08000000000000039, 0.029999999999999947, 0.030000000000000034, -2.0832095769155276e-16, 0.07000000000000016], '01110': [0.0, 0.009999999999999997, 0.049999999999999926, 0.15000000000000036, -0.07000000000000024, 0.10000000000000027, 0.05000000000000004, 0.0400000000000001, 0.19000000000000034, 0.030000000000000086, -0.010000000000000061, -0.03000000000000009, -0.02000000000000009, 0.010000000000000012, 0.08000000000000018, 0.07000000000000005, 0.050000000000000086, 0.11000000000000021, 0.08000000000000011, 0.05000000000000004], '01111': [0.0, 0.0, -0.010000000000000026, 0.009999999999999981, 0.02000000000000009, 0.08000000000000018, -0.020000000000000077, 0.009999999999999981, -0.010000000000000061, -0.040000000000000153, 0.009999999999999981, -0.04000000000000018, -0.020000000000000104, -0.12000000000000043, -0.1100000000000004, -0.05000000000000021, 0.020000000000000025, 0.04000000000000006, 0.009999999999999981, 0.0], '10000': [0.0, 0.0, 0.010000000000000045, -0.010000000000000061, -0.07000000000000027, -0.03000000000000034, 0.0599999999999997, 0.18000000000000024, 0.02999999999999949, 0.059999999999999505, -0.08000000000000058, 0.05999999999999995, -0.030000000000000242, 0.13000000000000014, 0.25000000000000033, -1.7627157958516003e-16, 0.12000000000000002, 0.13000000000000034, -0.010000000000000073, 0.07000000000000013], '10001': [0.0, 0.0, 0.0, 0.030000000000000113, 0.04000000000000006, 0.05000000000000016, 0.09000000000000012, 0.02999999999999982, 0.07, 0.0699999999999997, 0.1800000000000001, 0.029999999999999666, 0.16000000000000003, 0.01999999999999991, 0.07000000000000003, 0.1000000000000001, 0.029999999999999947, 0.09000000000000015, 0.09000000000000012, 0.07000000000000003], '10010': [0.0, 0.0, 0.10000000000000032, 0.05000000000000012, -1.2018516789897276e-16, 0.10000000000000007, 0.029999999999999794, 0.10999999999999988, 0.009999999999999743, 0.07000000000000008, 0.11999999999999988, 0.05999999999999992, -0.040000000000000306, 0.09000000000000005, 0.07000000000000003, 0.05000000000000004, 0.05000000000000004, 0.08000000000000013, 0.039999999999999925, 0.03], '10011': [0.0, 0.0, 0.0, 0.04000000000000009, -0.020000000000000104, -0.09000000000000034, -0.05000000000000021, 0.010000000000000012, 0.07000000000000016, 0.09000000000000015, -0.05000000000000014, 0.12000000000000015, 0.10999999999999999, 0.10000000000000006, -0.040000000000000195, -6.409875621278547e-17, 0.039999999999999945, 0.009999999999999848, 0.10000000000000027, 0.039999999999999925], '10100': [0.0, 0.0, -0.030000000000000124, 0.02000000000000009, 0.07000000000000015, 0.02000000000000009, -0.1000000000000003, -0.13000000000000045, 0.13000000000000006, 0.039999999999999925, 0.16000000000000017, -0.020000000000000243, -0.010000000000000401, 0.11999999999999994, 0.1200000000000001, 0.11000000000000006, 0.029999999999999947, -0.030000000000000193, -2.0832095769155276e-16, -0.04000000000000034], '10101': [0.0, 0.0, 0.0, 0.0, 0.010000000000000045, -0.040000000000000153, -0.010000000000000061, -2.403703357979455e-16, 0.0700000000000001, 0.17000000000000012, 0.07999999999999963, 0.14999999999999974, 0.23000000000000023, 0.009999999999999504, 0.1400000000000001, 0.2200000000000004, 0.10000000000000012, 0.009999999999999743, 0.07000000000000016, -0.010000000000000162], '10110': [0.0, 0.0, 0.010000000000000045, -0.020000000000000077, 0.030000000000000113, 0.0800000000000002, 0.0800000000000003, 0.019999999999999962, 0.07000000000000016, 0.0700000000000003, -0.05000000000000014, -0.05000000000000015, -0.020000000000000104, 0.0800000000000002, 0.10000000000000017, 0.10000000000000017, -0.03000000000000026, 0.030000000000000086, -0.030000000000000145, -0.06000000000000023], '10111': [0.0, 0.0, 0.0, 0.0, 0.0, 0.04000000000000009, -0.030000000000000124, 0.03000000000000006, 0.020000000000000025, 0.12000000000000031, -0.04000000000000021, -0.020000000000000077, 2.2033947448145004e-17, 0.02000000000000009, -0.05000000000000015, -0.12000000000000043, -0.03000000000000009, 0.030000000000000113, 0.0900000000000002, 0.04000000000000018], '11000': [0.0, -6.009258394948638e-17, -0.03000000000000009, 0.04000000000000018, 0.10000000000000032, 0.0400000000000001, 0.07000000000000015, -0.030000000000000145, -0.07000000000000034, -0.020000000000000122, 0.06000000000000008, 0.030000000000000054, -0.020000000000000052, -0.14000000000000054, 0.0, -0.1200000000000005, -0.15000000000000063, -6.009258394948638e-17, -0.030000000000000124, -6.009258394948638e-17], '11001': [0.0, -0.020000000000000077, 0.03000000000000006, 0.03000000000000006, 0.04000000000000009, -0.05000000000000015, -0.020000000000000077, 0.06000000000000018, -6.009258394948638e-17, 0.05000000000000004, 0.04999999999999995, 0.15000000000000022, 0.2200000000000005, 0.03, -0.010000000000000061, 0.020000000000000025, 0.019999999999999962, 0.019999999999999962, -0.04000000000000021, 0.009999999999999946], '11010': [0.03, 0.05999999999999995, 0.029999999999999947, 0.01999999999999997, 0.08000000000000017, 0.009999999999999877, -0.04000000000000009, 0.06000000000000018, 0.020000000000000025, -0.05000000000000021, -0.060000000000000275, -0.020000000000000195, -0.13000000000000045, 0.09000000000000018, 0.009999999999999808, 0.1400000000000003, 0.019999999999999896, 0.05000000000000004, 0.009999999999999946, 0.05000000000000005], '11011': [0.009999999999999981, -6.009258394948638e-17, 0.0, -0.030000000000000124, -0.020000000000000077, 0.03000000000000006, 0.1000000000000002, -0.020000000000000077, 0.03000000000000006, -0.010000000000000026, -0.020000000000000077, -0.020000000000000077, 0.07000000000000015, -0.030000000000000138, -0.020000000000000195, 0.1000000000000002, -0.020000000000000077, 0.04000000000000009, 0.009999999999999946, -0.040000000000000153], '11100': [0.0, -0.06000000000000025, 0.010000000000000045, 0.010000000000000045, 2.2033947448145004e-17, 0.009999999999999981, 0.04000000000000009, 0.030000000000000113, -0.020000000000000052, -0.010000000000000122, 0.06000000000000018, -0.05000000000000021, 0.050000000000000086, -0.05000000000000021, 0.10000000000000027, -6.409875621278547e-17, 0.030000000000000086, 0.030000000000000086, 0.039999999999999994, 0.020000000000000025], '11101': [0.0, 0.0, 0.0, 0.0, 0.010000000000000045, 0.02000000000000009, -0.030000000000000124, -6.009258394948638e-17, -6.009258394948638e-17, 0.0, -0.06000000000000025, 0.030000000000000002, 0.009999999999999946, 0.020000000000000025, 0.030000000000000034, 0.009999999999999946, 0.07000000000000015, 0.009999999999999946, -0.020000000000000104, 0.1000000000000002], '11110': [0.0, 0.009999999999999981, -6.009258394948638e-17, 0.03000000000000006, 0.02000000000000007, 0.020000000000000025, -0.040000000000000153, 0.06000000000000011, 0.02000000000000009, 0.0400000000000001, 0.009999999999999981, -0.04000000000000018, -0.06000000000000018, 0.08000000000000011, -0.08000000000000028, -0.03000000000000009, 0.09000000000000018, 0.09000000000000018, 0.09000000000000018, 0.009999999999999877], '11111': [0.0, 0.0, 0.010000000000000045, 0.010000000000000045, -0.020000000000000077, -0.010000000000000026, 0.020000000000000025, -0.010000000000000061, 0.050000000000000086, 0.020000000000000025, 0.009999999999999981, 0.009999999999999981, 0.050000000000000086, 0.020000000000000025, 0.050000000000000086, 0.019999999999999962, 0.019999999999999962, -0.010000000000000122, 0.019999999999999962, -0.010000000000000122]}\n"
     ]
    }
   ],
   "source": [
    "def zne_prob_list(shots,state):\n",
    "    prob_list = []\n",
    "    for x in range(0,len(Trotter_circuit)):\n",
    "        prob_list.append(zne_prob(shots,state,x))\n",
    "    return prob_list\n",
    "\n",
    "state_dict = {}\n",
    "\n",
    "for x in state_list:\n",
    "    state_dict.update({x:zne_prob_list(100,x)})\n",
    "\n",
    "print(state_dict)"
   ]
  },
  {
   "cell_type": "code",
   "execution_count": 15,
   "metadata": {},
   "outputs": [
    {
     "data": {
      "text/plain": [
       "[0.8599999999999987,\n",
       " 0.5199999999999994,\n",
       " 0.24999999999999922,\n",
       " 0.1099999999999991,\n",
       " 0.14999999999999974,\n",
       " 0.19000000000000017,\n",
       " 0.09,\n",
       " 0.03999999999999992,\n",
       " -2.003086131649546e-17,\n",
       " 0.030000000000000034,\n",
       " -0.07000000000000027,\n",
       " 0.039999999999999945,\n",
       " 0.020000000000000025,\n",
       " 0.030000000000000034,\n",
       " 0.02000000000000007,\n",
       " -0.020000000000000104,\n",
       " 0.050000000000000086,\n",
       " 0.05000000000000004,\n",
       " 0.030000000000000086,\n",
       " 0.10000000000000017]"
      ]
     },
     "execution_count": 15,
     "metadata": {},
     "output_type": "execute_result"
    }
   ],
   "source": [
    "state_dict['01010']"
   ]
  },
  {
   "cell_type": "code",
   "execution_count": 14,
   "metadata": {},
   "outputs": [
    {
     "data": {
      "text/plain": [
       "32"
      ]
     },
     "execution_count": 14,
     "metadata": {},
     "output_type": "execute_result"
    }
   ],
   "source": [
    "len(state_dict)"
   ]
  },
  {
   "cell_type": "code",
   "execution_count": 22,
   "metadata": {},
   "outputs": [
    {
     "data": {
      "text/plain": [
       "0.025"
      ]
     },
     "execution_count": 22,
     "metadata": {},
     "output_type": "execute_result"
    }
   ],
   "source": [
    "def qiskit_single_qubit_executor_z_expval(circuit, shots: 2000, state) -> float:\n",
    "    # Use a depolarizing noise model.\n",
    "#     noise_model = NoiseModel()\n",
    "#     noise_model.add_all_qubit_quantum_error(\n",
    "#         depolarizing_error(one_qubit_error, 1),\n",
    "#         [\"u1\", \"u2\", \"u3\"],\n",
    "#     )\n",
    "#     noise_model.add_all_qubit_quantum_error(two_qubit_error, ['cx'])\n",
    "    \n",
    "    noise_model = NoiseModel.from_backend(backend)\n",
    "    \n",
    "    basis_gates = noise_model.basis_gates\n",
    "\n",
    "    # execution of the experiment\n",
    "    job = qiskit.execute(\n",
    "        circuit,\n",
    "        backend,\n",
    "        basis_gates=basis_gates,\n",
    "        # we want all gates to be actually applied,\n",
    "        # so we skip any circuit optimization\n",
    "        optimization_level=0,\n",
    "        #noise_model=noise_model,\n",
    "        shots=shots,\n",
    "        seed_transpiler=1,\n",
    "        seed_simulator=1\n",
    "    )\n",
    "    results = job.result()\n",
    "    counts = results.get_counts()\n",
    "    #for x in counts:\n",
    "    if state not in counts:\n",
    "        return 0\n",
    "    else:\n",
    "        expval = counts[state] / shots\n",
    "    return expval\n",
    "\n",
    "qiskit_multiqubit_executor(Trotter_circuit[1],2000,'00000')"
   ]
  },
  {
   "cell_type": "code",
   "execution_count": 23,
   "metadata": {},
   "outputs": [
    {
     "data": {
      "text/plain": [
       "0.447"
      ]
     },
     "execution_count": 23,
     "metadata": {},
     "output_type": "execute_result"
    }
   ],
   "source": [
    "qiskit_multiqubit_executor(test_circuit,2000,'00')"
   ]
  },
  {
   "cell_type": "code",
   "execution_count": 26,
   "metadata": {},
   "outputs": [
    {
     "data": {
      "text/plain": [
       "0.5125000000000001"
      ]
     },
     "execution_count": 26,
     "metadata": {},
     "output_type": "execute_result"
    }
   ],
   "source": [
    "test_state_list = ['00','01','10','11']\n",
    "\n",
    "prob_1 = 0\n",
    "\n",
    "for x in test_state_list:\n",
    "    if x[-1] == '1':\n",
    "        prob_1 += qiskit_multiqubit_executor(test_circuit,2000,x)\n",
    "\n",
    "prob_1"
   ]
  },
  {
   "cell_type": "code",
   "execution_count": 27,
   "metadata": {},
   "outputs": [
    {
     "data": {
      "text/plain": [
       "0.5125000000000001"
      ]
     },
     "execution_count": 27,
     "metadata": {},
     "output_type": "execute_result"
    }
   ],
   "source": [
    "qiskit_multiqubit_executor(test_circuit,2000,'01') + qiskit_multiqubit_executor(test_circuit,2000,'11')"
   ]
  },
  {
   "cell_type": "code",
   "execution_count": null,
   "metadata": {},
   "outputs": [],
   "source": []
  }
 ],
 "metadata": {
  "kernelspec": {
   "display_name": "Python 3",
   "language": "python",
   "name": "python3"
  },
  "language_info": {
   "codemirror_mode": {
    "name": "ipython",
    "version": 3
   },
   "file_extension": ".py",
   "mimetype": "text/x-python",
   "name": "python",
   "nbconvert_exporter": "python",
   "pygments_lexer": "ipython3",
   "version": "3.7.6"
  }
 },
 "nbformat": 4,
 "nbformat_minor": 4
}
